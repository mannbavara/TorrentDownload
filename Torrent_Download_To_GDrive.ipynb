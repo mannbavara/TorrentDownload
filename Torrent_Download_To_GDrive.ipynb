{
  "cells": [
    {
      "cell_type": "markdown",
      "metadata": {
        "id": "view-in-github",
        "colab_type": "text"
      },
      "source": [
        "<a href=\"https://colab.research.google.com/github/mannbavara/TorrentDownload/blob/main/Torrent_Download_To_GDrive.ipynb\" target=\"_parent\"><img src=\"https://colab.research.google.com/assets/colab-badge.svg\" alt=\"Open In Colab\"/></a>"
      ]
    },
    {
      "cell_type": "code",
      "execution_count": null,
      "metadata": {
        "id": "o20uk-CUTzGl"
      },
      "outputs": [],
      "source": [
        "!apt install transmission-cli -q"
      ]
    },
    {
      "cell_type": "code",
      "execution_count": null,
      "metadata": {
        "id": "uVpWBxzMUHi6"
      },
      "outputs": [],
      "source": [
        "!transmission-cli --download-dir \"./drive/My Drive\"  \"#Magnet Link\"\n"
      ]
    }
  ],
  "metadata": {
    "colab": {
      "provenance": [],
      "mount_file_id": "1eH7KU1ScilSaKvKQUudwuZlw2l4Iv1P8",
      "authorship_tag": "ABX9TyNrH0MyhyAAaUz2R31EUsyn",
      "include_colab_link": true
    },
    "kernelspec": {
      "display_name": "Python 3",
      "name": "python3"
    }
  },
  "nbformat": 4,
  "nbformat_minor": 0
}